{
  "nbformat": 4,
  "nbformat_minor": 0,
  "metadata": {
    "colab": {
      "provenance": [],
      "authorship_tag": "ABX9TyOcwoMntCaaV89nsP+DhXjm",
      "include_colab_link": true
    },
    "kernelspec": {
      "name": "python3",
      "display_name": "Python 3"
    },
    "language_info": {
      "name": "python"
    }
  },
  "cells": [
    {
      "cell_type": "markdown",
      "metadata": {
        "id": "view-in-github",
        "colab_type": "text"
      },
      "source": [
        "<a href=\"https://colab.research.google.com/github/e-kyere/portfolio/blob/main/Python_Program.ipynb\" target=\"_parent\"><img src=\"https://colab.research.google.com/assets/colab-badge.svg\" alt=\"Open In Colab\"/></a>"
      ]
    },
    {
      "cell_type": "markdown",
      "source": [
        "## This program finds flows x1 and x2 such that all used routes have equal and minimum travel time."
      ],
      "metadata": {
        "id": "hbFNCHJePi8a"
      }
    },
    {
      "cell_type": "markdown",
      "source": [
        "# Description of the Approach\n",
        "My approach to solving the problem involves using the bisection method to find the optimal flow distribution between two paths in a transportation network, ensuring that the travel times on both paths are equal. This method works because it iteratively narrows down the range within which the solution lies by evaluating the difference in travel times at calculated midpoints. If the travel times at the endpoints of the interval have opposite signs, it indicates that the root exists within that interval. The bisection method is particularly suitable for this problem due to its guaranteed convergence properties for continuous functions and its simplicity in implementation. I chose this approach because it provides a robust and straightforward way to address the flow distribution problem, allowing for precise control over the tolerance of the solution and ensuring that I can effectively handle cases where the travel time functions may have non-linear characteristics.\n"
      ],
      "metadata": {
        "id": "FfHuo-SFRfV-"
      }
    },
    {
      "cell_type": "markdown",
      "source": [
        "### Travel time functions"
      ],
      "metadata": {
        "id": "Snxc_BFlPo4U"
      }
    },
    {
      "cell_type": "code",
      "source": [
        "# Functions to calculate travel time on path 1\n",
        "def t1(x1, f1, alpha1, C1, beta1):\n",
        "    return f1 * (1 + alpha1 * (x1 / C1) ** beta1)\n",
        "\n",
        "# Functions to calculate travel time on path 2\n",
        "def t2(x2, f2, alpha2, C2, beta2):\n",
        "    return f2 * (1 + alpha2 * (x2 / C2) ** beta2)"
      ],
      "metadata": {
        "id": "dxKP5LQHOrZr"
      },
      "execution_count": 7,
      "outputs": []
    },
    {
      "cell_type": "markdown",
      "source": [
        "### This function returns the difference between travel times on both paths"
      ],
      "metadata": {
        "id": "oPBxm7XBQF8c"
      }
    },
    {
      "cell_type": "code",
      "source": [
        "def travel_time_difference(x1, d, f1, alpha1, C1, beta1, f2, alpha2, C2, beta2):\n",
        "    x2 = d - x1  # Since x1 + x2 = d, we calculate x2 as d - x1\n",
        "    return t1(x1, f1, alpha1, C1, beta1) - t2(x2, f2, alpha2, C2, beta2)"
      ],
      "metadata": {
        "id": "DU50xhO1O1-u"
      },
      "execution_count": 8,
      "outputs": []
    },
    {
      "cell_type": "markdown",
      "source": [
        "### This function solves the problem using the bisection method\n"
      ],
      "metadata": {
        "id": "Kr5WSE6AQ_lY"
      }
    },
    {
      "cell_type": "code",
      "source": [
        "def bisection_method(d, f1, alpha1, C1, beta1, f2, alpha2, C2, beta2, tol=1e-6, max_iter=1000):\n",
        "    # Starting with x1 between 0 and d\n",
        "    a = 0\n",
        "    b = d\n",
        "    for iteration in range(max_iter):\n",
        "        midpoint = (a + b) / 2\n",
        "        difference = travel_time_difference(midpoint, d, f1, alpha1, C1, beta1, f2, alpha2, C2, beta2)\n",
        "\n",
        "        # If the difference is small enough, we found the solution\n",
        "        if abs(difference) < tol:\n",
        "            return midpoint  # Solution found\n",
        "\n",
        "        # Narrow the search interval\n",
        "        if travel_time_difference(a, d, f1, alpha1, C1, beta1, f2, alpha2, C2, beta2) * difference < 0:\n",
        "            b = midpoint\n",
        "        else:\n",
        "            a = midpoint\n",
        "\n",
        "    # If the loop finishes without finding a solution, raise an error\n",
        "    raise ValueError(\"Solution not found within the maximum number of iterations\")\n"
      ],
      "metadata": {
        "id": "lTYPSbXvO4Pt"
      },
      "execution_count": 9,
      "outputs": []
    },
    {
      "cell_type": "markdown",
      "source": [
        "### Example"
      ],
      "metadata": {
        "id": "XFNgYueVRPSB"
      }
    },
    {
      "cell_type": "code",
      "source": [
        "# Parameters for the example\n",
        "d = 2000  # total demand in veh/hr\n",
        "f1, alpha1, C1, beta1 = 8, 0.25, 1200, 1  # Parameters for path 1\n",
        "f2, alpha2, C2, beta2 = 3, 1, 700, 1  # Parameters for path 2\n",
        "\n",
        "# Solve for x1 using the bisection method\n",
        "x1_solution = bisection_method(d, f1, alpha1, C1, beta1, f2, alpha2, C2, beta2)\n",
        "\n",
        "# Calculate x2 from flow conservation\n",
        "x2_solution = d - x1_solution\n",
        "\n",
        "# Compute the travel times\n",
        "t1_value = t1(x1_solution, f1, alpha1, C1, beta1)\n",
        "t2_value = t2(x2_solution, f2, alpha2, C2, beta2)\n",
        "\n",
        "# Output results\n",
        "print(f\"Optimal flow on path 1: {x1_solution:.2f} veh/hr\")\n",
        "print(f\"Optimal flow on path 2: {x2_solution:.2f} veh/hr\")\n",
        "print(f\"Travel time on path 1: {t1_value:.2f} minutes\")\n",
        "print(f\"Travel time on path 2: {t2_value:.2f} minutes\")"
      ],
      "metadata": {
        "id": "AkYsObAAPE8v"
      },
      "execution_count": null,
      "outputs": []
    }
  ]
}